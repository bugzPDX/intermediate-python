{
 "metadata": {
  "name": ""
 },
 "nbformat": 3,
 "nbformat_minor": 0,
 "worksheets": [
  {
   "cells": [
    {
     "cell_type": "markdown",
     "metadata": {},
     "source": [
      "#### PRE-RELEASE REVIEW: O'Reilly Intermediate Python Video Series\n",
      "#### Topic: Tuples \n",
      "Source located in `nbsource/tuples.ipynb`. Automatically rendered from `UNKNOWN` on 2014-03-21 at 10:21:36.443435.\n",
      "#### AUTOMATICALLY GENERATED TEST NOTEBOOK - CHANGES WILL BE LOST\n",
      "#### To TEST this Notebook<br />1. select Cell | Run All, or step through with Shift/Enter<br />2. Notebook turns pink when testing starts<br />3. It turns white when the it runs to completion.<br />4. Please check the executed notebook for clarity and correctness.<br />Please [raise an issue](https://github.com/holdenweb/intermediate-python/issues) about anything you don't understand - by all means attach a saved copy of the notebook to add explanations or questions. Also please let us know about stuff you want to see covered under any heading in the outline.\n",
      "#### Your comments on the content are also welcome, particularly when [reported as issues](https://github.com/holdenweb/intermediate-python/issues)"
     ]
    },
    {
     "cell_type": "heading",
     "level": 1,
     "metadata": {},
     "source": [
      "<img src=\"https://dl.dropboxusercontent.com/u/6117375/intermediate-notebooks/title_graphic.png\" />\n",
      "||| WORKING COPY ||| Tuples"
     ]
    },
    {
     "cell_type": "markdown",
     "metadata": {},
     "source": [
      "The tuple is a sequence container not unlike the list except that once created you cannot change it. You might wonder why such a container even exists, and the real answer is that it is designed principally for holding sequences of values where the _position_ of an item has significance.\n",
      "\n",
      "For example, [the `os.stat()` library function call](http://docs.python.org/2/library/os.html#os.stat \"\") used to return a tuple of at least ten elements: if `s` is the output of an `os.stat()` call on a specific path then `s[9]` is the creation time of that path and `s[8]` is its modification time."
     ]
    },
    {
     "cell_type": "markdown",
     "metadata": {},
     "source": [
      "It is often more convenient to refer to the elements of a returned tuple using attribute names, and can certainly improve a program's readability immensely. For that reason nowadays `os.stat()` returns a __[`collections.namedtuple`](http://docs.python.org/2/library/collections.html#collections.namedtuple \"\")__ object."
     ]
    },
    {
     "cell_type": "markdown",
     "metadata": {},
     "source": [
      "To avoid causing failures in existing code you can also use the standard tuple access mechanisms. Nevertheless tuples are firmly embedded in Python, and they do allow you to create a structure that you can pass to someone else's code with a reasonable expectation it won't be mangled. Like strings, tuples are an _immutable_ type - once created they can't be changed."
     ]
    },
    {
     "cell_type": "markdown",
     "metadata": {},
     "source": [
      "Tuples are represented in Python source code as a sequence of values separated by commas."
     ]
    },
    {
     "cell_type": "code",
     "collapsed": false,
     "input": [
      "xy_position = 25, 50"
     ],
     "language": "python",
     "metadata": {},
     "outputs": []
    },
    {
     "cell_type": "code",
     "collapsed": false,
     "input": [
      "xy_position"
     ],
     "language": "python",
     "metadata": {},
     "outputs": []
    },
    {
     "cell_type": "markdown",
     "metadata": {},
     "source": [
      "As you can see, the interpreter puts parentheses around the list when it represents a tuple (you will probably remember that lists are represented in square brackets). It's conventional, but often not necessary, to write parentheses arund the tuples in your source. After all, that's just a parenthesized tuple. There are some situations, such as passing a tuple as an argument to a function, where the parentheses are required for the interpreter to make sense of your code.\n",
      "\n",
      "As a sequence type the elements of a tuple can be accessed by numeric index just like the elements of a list or the characters of a string."
     ]
    },
    {
     "cell_type": "code",
     "collapsed": false,
     "input": [
      "xy_position[0]"
     ],
     "language": "python",
     "metadata": {},
     "outputs": []
    },
    {
     "cell_type": "code",
     "collapsed": false,
     "input": [
      "xy_position[1]"
     ],
     "language": "python",
     "metadata": {},
     "outputs": []
    },
    {
     "cell_type": "markdown",
     "metadata": {},
     "source": [
      "The tuple does not have as many methods as the list type. You can find things with the `index()` method and count them with `count()`."
     ]
    },
    {
     "cell_type": "code",
     "collapsed": false,
     "input": [
      "heterogeneous = (1, \"potato\", 2, \"potato\", 3, \"potato\", 4)\n",
      "heterogeneous.index(3), heterogeneous.count(\"potato\")"
     ],
     "language": "python",
     "metadata": {},
     "outputs": []
    },
    {
     "cell_type": "markdown",
     "metadata": {},
     "source": [
      "The expression on the last line is itself a tuple. The values in a tuple are not restricted to literal objects but can be full-blown Python expressions."
     ]
    },
    {
     "cell_type": "markdown",
     "metadata": {},
     "source": [
      "__Exceptional Circumstances__  \n",
      "Here you see the response when an attempt is made to alter one of a tuple's values.\n",
      "\n",
      "    "
     ]
    },
    {
     "cell_type": "code",
     "collapsed": false,
     "input": [
      "heterogeneous[3] = \"tomato\""
     ],
     "language": "python",
     "metadata": {},
     "outputs": []
    },
    {
     "cell_type": "markdown",
     "metadata": {},
     "source": [
      "That tells you quite clearly you cannot substitute any of the elements in the tuple.\n",
      "Please note that this does __not__ mean that objects contained within the tuple cannot be mutated. In this next example we create a tuple one of whose elements is a list. You can see that the tuple is represented differently after the change to the list, but the change is allowed because the tuple element still refers to the same object."
     ]
    },
    {
     "cell_type": "code",
     "collapsed": false,
     "input": [
      "immutable = (0, 1, 2, [3, 4, 5])\n",
      "print(immutable[3])\n",
      "immutable[3][1] = \"See - it can be done\"\n",
      "print(immutable[3], immutable)"
     ],
     "language": "python",
     "metadata": {},
     "outputs": []
    },
    {
     "cell_type": "heading",
     "level": 4,
     "metadata": {},
     "source": [
      "A Note on the `namedtuple`"
     ]
    },
    {
     "cell_type": "markdown",
     "metadata": {},
     "source": [
      "Would you rather write (and how about reading?)\n",
      "\n",
      "    s = os.stat(some_path)\n",
      "    some_path_mod_time = s[7]\n",
      "\n",
      "when you could instead use the more modern\n",
      "\n",
      "    s = os.stat(some_path)\n",
      "    some_path_mod_time = s.st_mtime\n",
      "\n",
      "The mnemonic assistance of the name is incredibly valuable in keeping Python code (or indeed that of any programming language) readable  by making the code more self-documenting."
     ]
    },
    {
     "cell_type": "markdown",
     "metadata": {},
     "source": [
      "A `namedtuple` is a type. You create a new type by calling `collections.namedtuple()` with two arguments. The first is a string naming the type (used when instances are represented, for example) and the second specifies the names of the attributes that each instance will have.\n",
      "\n",
      "The attribute names can be presented as either:\n",
      "\n",
      "* a list of strings, _e.g._ `['name', 'address', 'phone_number']`\n",
      "* a string containing whitespace-separated field names, _e.g._ `\"name address phone_number\"`, or\n",
      "* a string containing a comma-separated list of field names, _e.g._ `\"name, address, phone_number\"`\n",
      "\n",
      "This flexibility can avoid tiresome conversions in many cases."
     ]
    },
    {
     "cell_type": "code",
     "collapsed": false,
     "input": [
      "from collections import namedtuple\n",
      "AddressBookEntry = namedtuple(\"AddressBookEntry\", \"name, address, phone_number\")\n",
      "steve = AddressBookEntry(\"Steve Holden\", \"123 Neverland Road\", \"123 5555\")\n",
      "steve"
     ],
     "language": "python",
     "metadata": {},
     "outputs": []
    },
    {
     "cell_type": "markdown",
     "metadata": {},
     "source": [
      "Once you create your named tuple definition it operates exactly the same as a built-in type."
     ]
    },
    {
     "cell_type": "code",
     "collapsed": false,
     "input": [
      "type(int), type(AddressBookEntry), type(steve)"
     ],
     "language": "python",
     "metadata": {},
     "outputs": []
    },
    {
     "cell_type": "markdown",
     "metadata": {},
     "source": [
      "__Exceptional Cirumstances__\n",
      "\n",
      "The first argument has to be a valid identifier, or bad things happen:\n",
      "\n",
      "    anything = namedtuple(\"several words\", \"list of field names\")\n",
      "    ---------------------------------------------------------------------------\n",
      "    ValueError                                Traceback (most recent call last)\n",
      "    <ipython-input-3-81e83821456c> in <module>()\n",
      "    ----> 1 _ = namedtuple(\"several words\", \"list of field names\")\n",
      "    \n",
      "    /Users/sholden/.virtualenvs/py3/lib/python3.3/collections/__init__.py in namedtuple(typename, field_names, verbose, rename)\n",
      "        336         if not name.isidentifier():\n",
      "        337             raise ValueError('Type names and field names must be valid '\n",
      "    --> 338                              'identifiers: %r' % name)\n",
      "        339         if _iskeyword(name):\n",
      "        340             raise ValueError('Type names and field names cannot be a '\n",
      "    \n",
      "    ValueError: Type names and field names must be valid identifiers: 'several words'\n",
      "\n",
      "The fact that `namedtuple` is implemented entirely in Python is responsible for the rather verbose nature of the traceback."
     ]
    },
    {
     "cell_type": "markdown",
     "metadata": {},
     "source": [
      "When creating `namedtuple` instances you can just pass the attribute values in the same sequence as they were defined. This is easy, but prone to error if changes such as the ordering of the names in the definition takes place.\n",
      "\n",
      "It is therefore sound practice (though ignoring it is neither uncommon nor inexcusable) to use keyword arguments to the instantiation calls as shown here."
     ]
    },
    {
     "cell_type": "code",
     "collapsed": false,
     "input": [
      "pat = AddressBookEntry(name=\"Patrick Barton\",\n",
      "                       phone_number=\"124 5555\",\n",
      "                       address=\"125 Neverland Road\")\n",
      "pat"
     ],
     "language": "python",
     "metadata": {},
     "outputs": []
    },
    {
     "cell_type": "code",
     "collapsed": false,
     "input": [
      "kirby = AddressBookEntry(address=\"121 Neverland Road\",\n",
      "                         phone_number=\"122 5555\",\n",
      "                         name=\"Kirby Urner\")\n",
      "kirby"
     ],
     "language": "python",
     "metadata": {},
     "outputs": []
    },
    {
     "cell_type": "markdown",
     "metadata": {},
     "source": [
      "When you take these address book values you can treat them just like any other type, and use dotted notation for the individual attributes."
     ]
    },
    {
     "cell_type": "code",
     "collapsed": false,
     "input": [
      "address_book = [kirby, pat, steve]\n",
      "for entry in address_book:\n",
      "    print(entry.name, entry.phone_number)"
     ],
     "language": "python",
     "metadata": {},
     "outputs": []
    }
   ],
   "metadata": {}
  }
 ]
}
